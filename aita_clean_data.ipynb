{
 "cells": [
  {
   "cell_type": "markdown",
   "metadata": {},
   "source": [
    "## AITA project: Cleaning the data."
   ]
  },
  {
   "cell_type": "code",
   "execution_count": 1,
   "metadata": {},
   "outputs": [],
   "source": [
    "import pandas as pd\n",
    "import numpy as np\n",
    "from sklearn.model_selection import train_test_split\n",
    "from sklearn.datasets import load_files\n",
    "from sklearn.feature_extraction.text import CountVectorizer\n",
    "from sklearn.linear_model import LogisticRegression\n",
    "import matplotlib.pyplot as plt\n",
    "import re\n",
    "%matplotlib inline\n",
    "pd.set_option('display.max_colwidth', None)"
   ]
  },
  {
   "cell_type": "markdown",
   "metadata": {},
   "source": [
    "Importing the database with comments:"
   ]
  },
  {
   "cell_type": "code",
   "execution_count": 2,
   "metadata": {},
   "outputs": [],
   "source": [
    "data = pd.read_csv(\"aita_raw.csv\")"
   ]
  },
  {
   "cell_type": "code",
   "execution_count": 3,
   "metadata": {},
   "outputs": [
    {
     "data": {
      "text/html": [
       "<div>\n",
       "<style scoped>\n",
       "    .dataframe tbody tr th:only-of-type {\n",
       "        vertical-align: middle;\n",
       "    }\n",
       "\n",
       "    .dataframe tbody tr th {\n",
       "        vertical-align: top;\n",
       "    }\n",
       "\n",
       "    .dataframe thead th {\n",
       "        text-align: right;\n",
       "    }\n",
       "</style>\n",
       "<table border=\"1\" class=\"dataframe\">\n",
       "  <thead>\n",
       "    <tr style=\"text-align: right;\">\n",
       "      <th></th>\n",
       "      <th>body</th>\n",
       "    </tr>\n",
       "  </thead>\n",
       "  <tbody>\n",
       "    <tr>\n",
       "      <th>20</th>\n",
       "      <td>YTA those were not your things. Let her eat what she wants to eat. Sure you had an “agreement” and it’s bullshit. If you don’t like having non vegan products in your household then don’t get roommates. That simple. You can’t control someone when they pay rent as well. You are a terrible human</td>\n",
       "    </tr>\n",
       "    <tr>\n",
       "      <th>21</th>\n",
       "      <td>NTA.  He doesn’t get to decide what you do as a parent.</td>\n",
       "    </tr>\n",
       "    <tr>\n",
       "      <th>22</th>\n",
       "      <td>NTA.   They were told they had to abide by standards and rules of the home but used their age and status as parents as a means of controlling the household.  They either could've been considerate, or hit the road.</td>\n",
       "    </tr>\n",
       "    <tr>\n",
       "      <th>23</th>\n",
       "      <td>NTA- I almost didnt do professional for my own wedding but then was like... why the hell not. If I didn't and anyone did- it's because they had money in their budget for it.. and I didn't so who the hell cares. AND EVEN STILL I have friends that know how to professionally do their own make up- theirs still looked better than mine. No fucks given though.   \\n\\n\\nShe's ticked you're 22 and hot, and she had her venue at A MANSION but couldn't splurge on professional hair and make up to fit her own venue. pfffft \\*rolls eyes\\* \\*lights fade\\* \\*curtains close\\*</td>\n",
       "    </tr>\n",
       "    <tr>\n",
       "      <th>24</th>\n",
       "      <td>NTA.  Tee doesn't get to decide Imani's emotions for her.  She has been asked nicely to let the group know if China is going to be joining and has chosen to not do so and force China's presence on everyone, not just Imani.  It appears that the group prefers Imani to China.  Tee doesn't get to decide that China gets a pass when she has been neither invited nor was an original member of the group.  She can think what she wants about Imani being \"babied\" or not; she was still an 'original' group member.</td>\n",
       "    </tr>\n",
       "    <tr>\n",
       "      <th>25</th>\n",
       "      <td>NTA\\n\\nBut almost needing info becauuuuuuseeee \\n\\nHonestly as someone who has been almost 300 lbs before and down to 150 before, let me say these excuses that \"oh she's just insecure\" is zero excuse. Over inflation of ego does not equal \"I hate my body\". It seems like HAES really has taken ahold of people in that fat is good and you can be healthy. Unless you're a tall person, being over 200-250 probably will lead to health concerns down the road. I know from friends, not my experience, that all it took was one person going \"you know you're not (X) right?\". Regardless how it was said. If it was a shitty friend like mine (named kelly) who used to be 110 and now is 320 who pretends she's still 180ish it becomes an over inflated ego issue. She doesn't understand why her knees hurt. She's lost weight and is now 230 but for her height she is /still/ morbidly obese. \\n\\nThe bmi scale exists for a reason. These people who are morbidly obese even are recomended to just reduce calorie intake then when their body can take it then go into exercising and cico. \\n\\nTL;DR \\n\\nDepending on her height she could be morbodly obese and not know it. Fat is not, and will never be, healthy. There are health complications that are life threatening. If she's an ass and delusional she needs a wakeup call.</td>\n",
       "    </tr>\n",
       "    <tr>\n",
       "      <th>26</th>\n",
       "      <td>YTA\\n\\nWow that escalated pretty quickly. You have NO clue what your biological parents OR your adopted parents went through when you got adopted.  Your own spitefulness said its because of birth defect but for all you know, it could have been something completely different. For all you know, the situation could have been more complicated and the trauma from that was why your mom shut you down so quickly and your dad told you to focus on your adopted parents. \\n\\nYou demanded for things that you got told were best left buried.  Yeah, it sucks. That's life. So your reaction was to destroy as many people as possible?  If what you did blow up, it's going to affect not just your biological parents and your blood brother but also your adopted parents who do not seem to have done you any harm, along with who knows how many more of your family members who are completely innocent and not in the know. Do you realize how much damage you could be doing just because you decided to indulge in spitefulness?\\n\\nI really hope there's a way to retract and/or fix what you did for your own sake.</td>\n",
       "    </tr>\n",
       "    <tr>\n",
       "      <th>27</th>\n",
       "      <td>NTA like I know people on here tell you to break up with others all the time. But for me personally that would 100% be a dealbreaker, I take my online data very seriously and would not want to be around anyone like that. \\n\\nP.S. get some new passwords take a look at diceware if you need some help getting new ones.</td>\n",
       "    </tr>\n",
       "    <tr>\n",
       "      <th>28</th>\n",
       "      <td>NTA. I'll probably get downvoted for this, but I totally understand why you did what you did.  I think you need at least one person on your side. I feel such compassion for you and am angry on your behalf. \\n\\nYour birth parents treated you like dirt. Not necessarily the adoption, although there is that, but also the blocking you, etc.\\n\\nWhat did they expect, in this age of social media? Why did they think they had the right to treat any human being with such cruel disdain? \\n\\nI'm glad you did it, honestly. I'd want to know if I were working with such hypocrites, particularly if they were in a \"helping\" field.</td>\n",
       "    </tr>\n",
       "    <tr>\n",
       "      <th>29</th>\n",
       "      <td>NTA.You are not compatible as friends. Walk away.</td>\n",
       "    </tr>\n",
       "  </tbody>\n",
       "</table>\n",
       "</div>"
      ],
      "text/plain": [
       "                                                                                                                                                                                                                                                                                                                                                                                                                                                                                                                                                                                                                                                                                                                                                                                                                                                                                                                                                                                                                                                                                                                                                                                                                                                                                                                                                      body\n",
       "20                                                                                                                                                                                                                                                                                                                                                                                                                                                                                                                                                                                                                                                                                                                                                                                                                                                                                                                                                                                                                                                   YTA those were not your things. Let her eat what she wants to eat. Sure you had an “agreement” and it’s bullshit. If you don’t like having non vegan products in your household then don’t get roommates. That simple. You can’t control someone when they pay rent as well. You are a terrible human\n",
       "21                                                                                                                                                                                                                                                                                                                                                                                                                                                                                                                                                                                                                                                                                                                                                                                                                                                                                                                                                                                                                                                                                                                                                                                                                                                                                                 NTA.  He doesn’t get to decide what you do as a parent.\n",
       "22                                                                                                                                                                                                                                                                                                                                                                                                                                                                                                                                                                                                                                                                                                                                                                                                                                                                                                                                                                                                                                                                                                                                   NTA.   They were told they had to abide by standards and rules of the home but used their age and status as parents as a means of controlling the household.  They either could've been considerate, or hit the road.\n",
       "23                                                                                                                                                                                                                                                                                                                                                                                                                                                                                                                                                                                                                                                                                                                                                                     NTA- I almost didnt do professional for my own wedding but then was like... why the hell not. If I didn't and anyone did- it's because they had money in their budget for it.. and I didn't so who the hell cares. AND EVEN STILL I have friends that know how to professionally do their own make up- theirs still looked better than mine. No fucks given though.   \\n\\n\\nShe's ticked you're 22 and hot, and she had her venue at A MANSION but couldn't splurge on professional hair and make up to fit her own venue. pfffft \\*rolls eyes\\* \\*lights fade\\* \\*curtains close\\*\n",
       "24                                                                                                                                                                                                                                                                                                                                                                                                                                                                                                                                                                                                                                                                                                                                                                                                                               NTA.  Tee doesn't get to decide Imani's emotions for her.  She has been asked nicely to let the group know if China is going to be joining and has chosen to not do so and force China's presence on everyone, not just Imani.  It appears that the group prefers Imani to China.  Tee doesn't get to decide that China gets a pass when she has been neither invited nor was an original member of the group.  She can think what she wants about Imani being \"babied\" or not; she was still an 'original' group member.\n",
       "25  NTA\\n\\nBut almost needing info becauuuuuuseeee \\n\\nHonestly as someone who has been almost 300 lbs before and down to 150 before, let me say these excuses that \"oh she's just insecure\" is zero excuse. Over inflation of ego does not equal \"I hate my body\". It seems like HAES really has taken ahold of people in that fat is good and you can be healthy. Unless you're a tall person, being over 200-250 probably will lead to health concerns down the road. I know from friends, not my experience, that all it took was one person going \"you know you're not (X) right?\". Regardless how it was said. If it was a shitty friend like mine (named kelly) who used to be 110 and now is 320 who pretends she's still 180ish it becomes an over inflated ego issue. She doesn't understand why her knees hurt. She's lost weight and is now 230 but for her height she is /still/ morbidly obese. \\n\\nThe bmi scale exists for a reason. These people who are morbidly obese even are recomended to just reduce calorie intake then when their body can take it then go into exercising and cico. \\n\\nTL;DR \\n\\nDepending on her height she could be morbodly obese and not know it. Fat is not, and will never be, healthy. There are health complications that are life threatening. If she's an ass and delusional she needs a wakeup call.\n",
       "26                                                                                                                                                                                                                   YTA\\n\\nWow that escalated pretty quickly. You have NO clue what your biological parents OR your adopted parents went through when you got adopted.  Your own spitefulness said its because of birth defect but for all you know, it could have been something completely different. For all you know, the situation could have been more complicated and the trauma from that was why your mom shut you down so quickly and your dad told you to focus on your adopted parents. \\n\\nYou demanded for things that you got told were best left buried.  Yeah, it sucks. That's life. So your reaction was to destroy as many people as possible?  If what you did blow up, it's going to affect not just your biological parents and your blood brother but also your adopted parents who do not seem to have done you any harm, along with who knows how many more of your family members who are completely innocent and not in the know. Do you realize how much damage you could be doing just because you decided to indulge in spitefulness?\\n\\nI really hope there's a way to retract and/or fix what you did for your own sake.\n",
       "27                                                                                                                                                                                                                                                                                                                                                                                                                                                                                                                                                                                                                                                                                                                                                                                                                                                                                                                                                                                                                            NTA like I know people on here tell you to break up with others all the time. But for me personally that would 100% be a dealbreaker, I take my online data very seriously and would not want to be around anyone like that. \\n\\nP.S. get some new passwords take a look at diceware if you need some help getting new ones.\n",
       "28                                                                                                                                                                                                                                                                                                                                                                                                                                                                                                                                                                                                                                                                                                             NTA. I'll probably get downvoted for this, but I totally understand why you did what you did.  I think you need at least one person on your side. I feel such compassion for you and am angry on your behalf. \\n\\nYour birth parents treated you like dirt. Not necessarily the adoption, although there is that, but also the blocking you, etc.\\n\\nWhat did they expect, in this age of social media? Why did they think they had the right to treat any human being with such cruel disdain? \\n\\nI'm glad you did it, honestly. I'd want to know if I were working with such hypocrites, particularly if they were in a \"helping\" field.\n",
       "29                                                                                                                                                                                                                                                                                                                                                                                                                                                                                                                                                                                                                                                                                                                                                                                                                                                                                                                                                                                                                                                                                                                                                                                                                                                                                                       NTA.You are not compatible as friends. Walk away."
      ]
     },
     "execution_count": 3,
     "metadata": {},
     "output_type": "execute_result"
    }
   ],
   "source": [
    "data[20:30]"
   ]
  },
  {
   "cell_type": "code",
   "execution_count": 4,
   "metadata": {},
   "outputs": [],
   "source": [
    "data[\"body\"]=data[\"body\"].astype(\"str\")"
   ]
  },
  {
   "cell_type": "code",
   "execution_count": 5,
   "metadata": {},
   "outputs": [
    {
     "data": {
      "text/plain": [
       "body    object\n",
       "dtype: object"
      ]
     },
     "execution_count": 5,
     "metadata": {},
     "output_type": "execute_result"
    }
   ],
   "source": [
    "data.dtypes"
   ]
  },
  {
   "cell_type": "markdown",
   "metadata": {},
   "source": [
    "We get rid of the punctuation and look for the the instances of YTA/NTA. YTA is labeled by 1, NTA by 0, mixed cases by 5."
   ]
  },
  {
   "cell_type": "code",
   "execution_count": 6,
   "metadata": {},
   "outputs": [],
   "source": [
    "def yta_nta(string):\n",
    "    sentence = re.split(\"\\W+\",string.lower())\n",
    "    x=0\n",
    "    y=0\n",
    "    if \"yta\" in sentence: x = 1\n",
    "    if \"nta\" in sentence: y = 1\n",
    "    if x==y: return 5\n",
    "    elif x>y: return 1\n",
    "    else: return 0\n",
    "\n",
    "    "
   ]
  },
  {
   "cell_type": "code",
   "execution_count": 7,
   "metadata": {},
   "outputs": [],
   "source": [
    "data[\"verdict\"] = data[\"body\"].apply(lambda x: yta_nta(x))"
   ]
  },
  {
   "cell_type": "code",
   "execution_count": 8,
   "metadata": {},
   "outputs": [
    {
     "data": {
      "text/html": [
       "<div>\n",
       "<style scoped>\n",
       "    .dataframe tbody tr th:only-of-type {\n",
       "        vertical-align: middle;\n",
       "    }\n",
       "\n",
       "    .dataframe tbody tr th {\n",
       "        vertical-align: top;\n",
       "    }\n",
       "\n",
       "    .dataframe thead th {\n",
       "        text-align: right;\n",
       "    }\n",
       "</style>\n",
       "<table border=\"1\" class=\"dataframe\">\n",
       "  <thead>\n",
       "    <tr style=\"text-align: right;\">\n",
       "      <th></th>\n",
       "      <th>body</th>\n",
       "      <th>verdict</th>\n",
       "    </tr>\n",
       "  </thead>\n",
       "  <tbody>\n",
       "    <tr>\n",
       "      <th>0</th>\n",
       "      <td>I wanna say YTA since you could’ve approached this differently by asking her to stop coming in, but you’re 100% NTA if you have to ask that in the first place.</td>\n",
       "      <td>5</td>\n",
       "    </tr>\n",
       "    <tr>\n",
       "      <th>1</th>\n",
       "      <td>My thoughts exactly. It’s obviously NTA. Claire struggling with it doesn’t make her not accountable for her actions.</td>\n",
       "      <td>0</td>\n",
       "    </tr>\n",
       "    <tr>\n",
       "      <th>2</th>\n",
       "      <td>YTA. “In an ideal world” you wouldn’t have cheated and you wouldn’t be going behind her back trying to get confidential medical information. You’re not entitled to anything regarding the birth of the child she’s carrying.</td>\n",
       "      <td>1</td>\n",
       "    </tr>\n",
       "    <tr>\n",
       "      <th>3</th>\n",
       "      <td>NTA, I’m a nude sleeper because as a teenager, being naked most of the time in my room was the only way people learned to knock and wait until I said it was okay.</td>\n",
       "      <td>0</td>\n",
       "    </tr>\n",
       "    <tr>\n",
       "      <th>4</th>\n",
       "      <td>YTA</td>\n",
       "      <td>1</td>\n",
       "    </tr>\n",
       "  </tbody>\n",
       "</table>\n",
       "</div>"
      ],
      "text/plain": [
       "                                                                                                                                                                                                                            body  \\\n",
       "0                                                                I wanna say YTA since you could’ve approached this differently by asking her to stop coming in, but you’re 100% NTA if you have to ask that in the first place.   \n",
       "1                                                                                                           My thoughts exactly. It’s obviously NTA. Claire struggling with it doesn’t make her not accountable for her actions.   \n",
       "2  YTA. “In an ideal world” you wouldn’t have cheated and you wouldn’t be going behind her back trying to get confidential medical information. You’re not entitled to anything regarding the birth of the child she’s carrying.   \n",
       "3                                                             NTA, I’m a nude sleeper because as a teenager, being naked most of the time in my room was the only way people learned to knock and wait until I said it was okay.   \n",
       "4                                                                                                                                                                                                                            YTA   \n",
       "\n",
       "   verdict  \n",
       "0        5  \n",
       "1        0  \n",
       "2        1  \n",
       "3        0  \n",
       "4        1  "
      ]
     },
     "execution_count": 8,
     "metadata": {},
     "output_type": "execute_result"
    }
   ],
   "source": [
    "data.head()"
   ]
  },
  {
   "cell_type": "markdown",
   "metadata": {},
   "source": [
    "We get rid of the punctuation and the YTA/NTA words."
   ]
  },
  {
   "cell_type": "code",
   "execution_count": 9,
   "metadata": {},
   "outputs": [],
   "source": [
    "def remove_nta_yta(string):\n",
    "    sentence = \" \".join([word for word in re.split(\"\\W+\",string) if word.lower() not in [\"yta\",\"nta\"]])\n",
    "    return sentence"
   ]
  },
  {
   "cell_type": "code",
   "execution_count": 10,
   "metadata": {},
   "outputs": [],
   "source": [
    "data[\"body\"] = data[\"body\"].apply(lambda x: remove_nta_yta(x))"
   ]
  },
  {
   "cell_type": "code",
   "execution_count": 11,
   "metadata": {},
   "outputs": [
    {
     "data": {
      "text/html": [
       "<div>\n",
       "<style scoped>\n",
       "    .dataframe tbody tr th:only-of-type {\n",
       "        vertical-align: middle;\n",
       "    }\n",
       "\n",
       "    .dataframe tbody tr th {\n",
       "        vertical-align: top;\n",
       "    }\n",
       "\n",
       "    .dataframe thead th {\n",
       "        text-align: right;\n",
       "    }\n",
       "</style>\n",
       "<table border=\"1\" class=\"dataframe\">\n",
       "  <thead>\n",
       "    <tr style=\"text-align: right;\">\n",
       "      <th></th>\n",
       "      <th>body</th>\n",
       "      <th>verdict</th>\n",
       "    </tr>\n",
       "  </thead>\n",
       "  <tbody>\n",
       "    <tr>\n",
       "      <th>0</th>\n",
       "      <td>I wanna say since you could ve approached this differently by asking her to stop coming in but you re 100 if you have to ask that in the first place</td>\n",
       "      <td>5</td>\n",
       "    </tr>\n",
       "    <tr>\n",
       "      <th>1</th>\n",
       "      <td>My thoughts exactly It s obviously Claire struggling with it doesn t make her not accountable for her actions</td>\n",
       "      <td>0</td>\n",
       "    </tr>\n",
       "    <tr>\n",
       "      <th>2</th>\n",
       "      <td>In an ideal world you wouldn t have cheated and you wouldn t be going behind her back trying to get confidential medical information You re not entitled to anything regarding the birth of the child she s carrying</td>\n",
       "      <td>1</td>\n",
       "    </tr>\n",
       "    <tr>\n",
       "      <th>3</th>\n",
       "      <td>I m a nude sleeper because as a teenager being naked most of the time in my room was the only way people learned to knock and wait until I said it was okay</td>\n",
       "      <td>0</td>\n",
       "    </tr>\n",
       "    <tr>\n",
       "      <th>4</th>\n",
       "      <td></td>\n",
       "      <td>1</td>\n",
       "    </tr>\n",
       "  </tbody>\n",
       "</table>\n",
       "</div>"
      ],
      "text/plain": [
       "                                                                                                                                                                                                                    body  \\\n",
       "0                                                                  I wanna say since you could ve approached this differently by asking her to stop coming in but you re 100 if you have to ask that in the first place    \n",
       "1                                                                                                         My thoughts exactly It s obviously Claire struggling with it doesn t make her not accountable for her actions    \n",
       "2  In an ideal world you wouldn t have cheated and you wouldn t be going behind her back trying to get confidential medical information You re not entitled to anything regarding the birth of the child she s carrying    \n",
       "3                                                           I m a nude sleeper because as a teenager being naked most of the time in my room was the only way people learned to knock and wait until I said it was okay    \n",
       "4                                                                                                                                                                                                                          \n",
       "\n",
       "   verdict  \n",
       "0        5  \n",
       "1        0  \n",
       "2        1  \n",
       "3        0  \n",
       "4        1  "
      ]
     },
     "execution_count": 11,
     "metadata": {},
     "output_type": "execute_result"
    }
   ],
   "source": [
    "data.head()"
   ]
  },
  {
   "cell_type": "code",
   "execution_count": 12,
   "metadata": {},
   "outputs": [
    {
     "data": {
      "text/plain": [
       "body       48586\n",
       "verdict    48586\n",
       "dtype: int64"
      ]
     },
     "execution_count": 12,
     "metadata": {},
     "output_type": "execute_result"
    }
   ],
   "source": [
    "data[data.verdict==5].count()"
   ]
  },
  {
   "cell_type": "markdown",
   "metadata": {},
   "source": [
    "Drop the mixed comments (both YTA and NTA in one comment): "
   ]
  },
  {
   "cell_type": "code",
   "execution_count": 13,
   "metadata": {},
   "outputs": [],
   "source": [
    "data = data[data.verdict != 5]"
   ]
  },
  {
   "cell_type": "code",
   "execution_count": 14,
   "metadata": {},
   "outputs": [
    {
     "data": {
      "text/plain": [
       "3200451"
      ]
     },
     "execution_count": 14,
     "metadata": {},
     "output_type": "execute_result"
    }
   ],
   "source": [
    "len(data)"
   ]
  },
  {
   "cell_type": "code",
   "execution_count": 15,
   "metadata": {},
   "outputs": [
    {
     "data": {
      "text/html": [
       "<div>\n",
       "<style scoped>\n",
       "    .dataframe tbody tr th:only-of-type {\n",
       "        vertical-align: middle;\n",
       "    }\n",
       "\n",
       "    .dataframe tbody tr th {\n",
       "        vertical-align: top;\n",
       "    }\n",
       "\n",
       "    .dataframe thead th {\n",
       "        text-align: right;\n",
       "    }\n",
       "</style>\n",
       "<table border=\"1\" class=\"dataframe\">\n",
       "  <thead>\n",
       "    <tr style=\"text-align: right;\">\n",
       "      <th></th>\n",
       "      <th>body</th>\n",
       "      <th>verdict</th>\n",
       "    </tr>\n",
       "  </thead>\n",
       "  <tbody>\n",
       "    <tr>\n",
       "      <th>3249032</th>\n",
       "      <td>you put a fake obligation on yourself and used that to justify something</td>\n",
       "      <td>1</td>\n",
       "    </tr>\n",
       "    <tr>\n",
       "      <th>3249033</th>\n",
       "      <td>But I can t stress this enough TALK TO THEM It s not fair to disappear without telling them what s upm there is no way your relationship with them will be in the same place after this It will take you 15 minutes to type up a message saying you need some time to focus on yourself and you will be a little bit unavailable Tell them you still care for them but is important for your mental health If they are good friends they will understand</td>\n",
       "      <td>0</td>\n",
       "    </tr>\n",
       "    <tr>\n",
       "      <th>3249034</th>\n",
       "      <td>Fed is best no matter which way you do it Nobody should be shamed for being unable to breastfeed or for just not wanting to do it when formula is perfectly fine for getting the proper nutrition into the baby You do what works best for you and your baby</td>\n",
       "      <td>0</td>\n",
       "    </tr>\n",
       "    <tr>\n",
       "      <th>3249035</th>\n",
       "      <td>Negativity is very hard to be around I m glad you didn t just cuss him and break up You gave him solid advice He really might be depressed</td>\n",
       "      <td>0</td>\n",
       "    </tr>\n",
       "    <tr>\n",
       "      <th>3249036</th>\n",
       "      <td>Lmaoooo she s being a bad friend for talking behind the girls back You tried to address it nicely in the beginning and she couldn t get off her high horse not your fault S n she didn t even seem worried about the friends safety just mad she hooked up with someone</td>\n",
       "      <td>0</td>\n",
       "    </tr>\n",
       "  </tbody>\n",
       "</table>\n",
       "</div>"
      ],
      "text/plain": [
       "                                                                                                                                                                                                                                                                                                                                                                                                                                                             body  \\\n",
       "3249032                                                                                                                                                                                                                                                                                                                                                                                 you put a fake obligation on yourself and used that to justify something    \n",
       "3249033  But I can t stress this enough TALK TO THEM It s not fair to disappear without telling them what s upm there is no way your relationship with them will be in the same place after this It will take you 15 minutes to type up a message saying you need some time to focus on yourself and you will be a little bit unavailable Tell them you still care for them but is important for your mental health If they are good friends they will understand   \n",
       "3249034                                                                                                                                                                                             Fed is best no matter which way you do it Nobody should be shamed for being unable to breastfeed or for just not wanting to do it when formula is perfectly fine for getting the proper nutrition into the baby You do what works best for you and your baby    \n",
       "3249035                                                                                                                                                                                                                                                                                                               Negativity is very hard to be around I m glad you didn t just cuss him and break up You gave him solid advice He really might be depressed    \n",
       "3249036                                                                                                                                                                                  Lmaoooo she s being a bad friend for talking behind the girls back You tried to address it nicely in the beginning and she couldn t get off her high horse not your fault S n she didn t even seem worried about the friends safety just mad she hooked up with someone    \n",
       "\n",
       "         verdict  \n",
       "3249032        1  \n",
       "3249033        0  \n",
       "3249034        0  \n",
       "3249035        0  \n",
       "3249036        0  "
      ]
     },
     "execution_count": 15,
     "metadata": {},
     "output_type": "execute_result"
    }
   ],
   "source": [
    "data.tail()"
   ]
  },
  {
   "cell_type": "code",
   "execution_count": 16,
   "metadata": {},
   "outputs": [],
   "source": [
    "# data = data.drop([\"body\"], axis=1)"
   ]
  },
  {
   "cell_type": "code",
   "execution_count": 17,
   "metadata": {},
   "outputs": [],
   "source": [
    "data.reset_index(drop=True, inplace=True)"
   ]
  },
  {
   "cell_type": "code",
   "execution_count": 18,
   "metadata": {},
   "outputs": [
    {
     "name": "stdout",
     "output_type": "stream",
     "text": [
      "number of YTA comments: 1037563 \n",
      "number of NTA comments: 2162888\n"
     ]
    }
   ],
   "source": [
    "print(\"number of YTA comments: {} \\nnumber of NTA comments: {}\".format( \\\n",
    "                                data[data.verdict==1].verdict.count(), data[data.verdict==0].verdict.count()) )"
   ]
  },
  {
   "cell_type": "code",
   "execution_count": 19,
   "metadata": {},
   "outputs": [
    {
     "data": {
      "text/plain": [
       "1125325"
      ]
     },
     "execution_count": 19,
     "metadata": {},
     "output_type": "execute_result"
    }
   ],
   "source": [
    "2162888-1037563"
   ]
  },
  {
   "cell_type": "markdown",
   "metadata": {},
   "source": [
    "Identifying the indices to drop:"
   ]
  },
  {
   "cell_type": "code",
   "execution_count": 20,
   "metadata": {},
   "outputs": [],
   "source": [
    "np.random.seed(17)\n",
    "\n",
    "remove_n = 1125325\n",
    "drop_indices = np.random.choice(data[data.verdict==0].index, remove_n, replace=False)"
   ]
  },
  {
   "cell_type": "code",
   "execution_count": 21,
   "metadata": {},
   "outputs": [],
   "source": [
    "data = data.drop(drop_indices)"
   ]
  },
  {
   "cell_type": "code",
   "execution_count": 22,
   "metadata": {},
   "outputs": [
    {
     "name": "stdout",
     "output_type": "stream",
     "text": [
      "number of YTA comments: 1037563 \n",
      "number of NTA comments: 1037563\n"
     ]
    }
   ],
   "source": [
    "print(\"number of YTA comments: {} \\nnumber of NTA comments: {}\".format( \\\n",
    "                                data[data.verdict==1].verdict.count(), data[data.verdict==0].verdict.count()) )"
   ]
  },
  {
   "cell_type": "code",
   "execution_count": 23,
   "metadata": {},
   "outputs": [
    {
     "data": {
      "text/html": [
       "<div>\n",
       "<style scoped>\n",
       "    .dataframe tbody tr th:only-of-type {\n",
       "        vertical-align: middle;\n",
       "    }\n",
       "\n",
       "    .dataframe tbody tr th {\n",
       "        vertical-align: top;\n",
       "    }\n",
       "\n",
       "    .dataframe thead th {\n",
       "        text-align: right;\n",
       "    }\n",
       "</style>\n",
       "<table border=\"1\" class=\"dataframe\">\n",
       "  <thead>\n",
       "    <tr style=\"text-align: right;\">\n",
       "      <th></th>\n",
       "      <th>body</th>\n",
       "      <th>verdict</th>\n",
       "    </tr>\n",
       "  </thead>\n",
       "  <tbody>\n",
       "    <tr>\n",
       "      <th>0</th>\n",
       "      <td>My thoughts exactly It s obviously Claire struggling with it doesn t make her not accountable for her actions</td>\n",
       "      <td>0</td>\n",
       "    </tr>\n",
       "    <tr>\n",
       "      <th>1</th>\n",
       "      <td>In an ideal world you wouldn t have cheated and you wouldn t be going behind her back trying to get confidential medical information You re not entitled to anything regarding the birth of the child she s carrying</td>\n",
       "      <td>1</td>\n",
       "    </tr>\n",
       "    <tr>\n",
       "      <th>2</th>\n",
       "      <td>I m a nude sleeper because as a teenager being naked most of the time in my room was the only way people learned to knock and wait until I said it was okay</td>\n",
       "      <td>0</td>\n",
       "    </tr>\n",
       "    <tr>\n",
       "      <th>3</th>\n",
       "      <td></td>\n",
       "      <td>1</td>\n",
       "    </tr>\n",
       "    <tr>\n",
       "      <th>4</th>\n",
       "      <td>The only thing worth considering in this post is 1 kid which pretty much negates your whole argument If it was just you and your wife let er rip I guess but having extremely dangerous surgery to prolong an older relative s life isn t putting your immediate family s best interests at heart If you die on that table everyone loses Why not ESH Although your wife phrased it in a shitty way she s probably just trying to stop you any way she can and she s right to do so</td>\n",
       "      <td>1</td>\n",
       "    </tr>\n",
       "  </tbody>\n",
       "</table>\n",
       "</div>"
      ],
      "text/plain": [
       "                                                                                                                                                                                                                                                                                                                                                                                                                                                                                   body  \\\n",
       "0                                                                                                                                                                                                                                                                                                                                                                        My thoughts exactly It s obviously Claire struggling with it doesn t make her not accountable for her actions    \n",
       "1                                                                                                                                                                                                                                                                 In an ideal world you wouldn t have cheated and you wouldn t be going behind her back trying to get confidential medical information You re not entitled to anything regarding the birth of the child she s carrying    \n",
       "2                                                                                                                                                                                                                                                                                                                          I m a nude sleeper because as a teenager being naked most of the time in my room was the only way people learned to knock and wait until I said it was okay    \n",
       "3                                                                                                                                                                                                                                                                                                                                                                                                                                                                                         \n",
       "4  The only thing worth considering in this post is 1 kid which pretty much negates your whole argument If it was just you and your wife let er rip I guess but having extremely dangerous surgery to prolong an older relative s life isn t putting your immediate family s best interests at heart If you die on that table everyone loses Why not ESH Although your wife phrased it in a shitty way she s probably just trying to stop you any way she can and she s right to do so    \n",
       "\n",
       "   verdict  \n",
       "0        0  \n",
       "1        1  \n",
       "2        0  \n",
       "3        1  \n",
       "4        1  "
      ]
     },
     "execution_count": 23,
     "metadata": {},
     "output_type": "execute_result"
    }
   ],
   "source": [
    "data.head()"
   ]
  },
  {
   "cell_type": "code",
   "execution_count": 24,
   "metadata": {},
   "outputs": [],
   "source": [
    "data = data[data.body != \"\"]"
   ]
  },
  {
   "cell_type": "code",
   "execution_count": 25,
   "metadata": {},
   "outputs": [
    {
     "name": "stdout",
     "output_type": "stream",
     "text": [
      "<class 'pandas.core.frame.DataFrame'>\n",
      "Int64Index: 2004709 entries, 0 to 3200449\n",
      "Data columns (total 2 columns):\n",
      " #   Column   Dtype \n",
      "---  ------   ----- \n",
      " 0   body     object\n",
      " 1   verdict  int64 \n",
      "dtypes: int64(1), object(1)\n",
      "memory usage: 45.9+ MB\n"
     ]
    }
   ],
   "source": [
    "data.info()"
   ]
  },
  {
   "cell_type": "code",
   "execution_count": 26,
   "metadata": {},
   "outputs": [
    {
     "data": {
      "text/html": [
       "<div>\n",
       "<style scoped>\n",
       "    .dataframe tbody tr th:only-of-type {\n",
       "        vertical-align: middle;\n",
       "    }\n",
       "\n",
       "    .dataframe tbody tr th {\n",
       "        vertical-align: top;\n",
       "    }\n",
       "\n",
       "    .dataframe thead th {\n",
       "        text-align: right;\n",
       "    }\n",
       "</style>\n",
       "<table border=\"1\" class=\"dataframe\">\n",
       "  <thead>\n",
       "    <tr style=\"text-align: right;\">\n",
       "      <th></th>\n",
       "      <th>body</th>\n",
       "      <th>verdict</th>\n",
       "    </tr>\n",
       "  </thead>\n",
       "  <tbody>\n",
       "    <tr>\n",
       "      <th>0</th>\n",
       "      <td>My thoughts exactly It s obviously Claire struggling with it doesn t make her not accountable for her actions</td>\n",
       "      <td>0</td>\n",
       "    </tr>\n",
       "    <tr>\n",
       "      <th>1</th>\n",
       "      <td>In an ideal world you wouldn t have cheated and you wouldn t be going behind her back trying to get confidential medical information You re not entitled to anything regarding the birth of the child she s carrying</td>\n",
       "      <td>1</td>\n",
       "    </tr>\n",
       "    <tr>\n",
       "      <th>2</th>\n",
       "      <td>I m a nude sleeper because as a teenager being naked most of the time in my room was the only way people learned to knock and wait until I said it was okay</td>\n",
       "      <td>0</td>\n",
       "    </tr>\n",
       "    <tr>\n",
       "      <th>4</th>\n",
       "      <td>The only thing worth considering in this post is 1 kid which pretty much negates your whole argument If it was just you and your wife let er rip I guess but having extremely dangerous surgery to prolong an older relative s life isn t putting your immediate family s best interests at heart If you die on that table everyone loses Why not ESH Although your wife phrased it in a shitty way she s probably just trying to stop you any way she can and she s right to do so</td>\n",
       "      <td>1</td>\n",
       "    </tr>\n",
       "    <tr>\n",
       "      <th>7</th>\n",
       "      <td>As you said you don t care about the photo He asked you to remove it and you didn t just to be a jerk</td>\n",
       "      <td>1</td>\n",
       "    </tr>\n",
       "  </tbody>\n",
       "</table>\n",
       "</div>"
      ],
      "text/plain": [
       "                                                                                                                                                                                                                                                                                                                                                                                                                                                                                   body  \\\n",
       "0                                                                                                                                                                                                                                                                                                                                                                        My thoughts exactly It s obviously Claire struggling with it doesn t make her not accountable for her actions    \n",
       "1                                                                                                                                                                                                                                                                 In an ideal world you wouldn t have cheated and you wouldn t be going behind her back trying to get confidential medical information You re not entitled to anything regarding the birth of the child she s carrying    \n",
       "2                                                                                                                                                                                                                                                                                                                          I m a nude sleeper because as a teenager being naked most of the time in my room was the only way people learned to knock and wait until I said it was okay    \n",
       "4  The only thing worth considering in this post is 1 kid which pretty much negates your whole argument If it was just you and your wife let er rip I guess but having extremely dangerous surgery to prolong an older relative s life isn t putting your immediate family s best interests at heart If you die on that table everyone loses Why not ESH Although your wife phrased it in a shitty way she s probably just trying to stop you any way she can and she s right to do so    \n",
       "7                                                                                                                                                                                                                                                                                                                                                                                As you said you don t care about the photo He asked you to remove it and you didn t just to be a jerk    \n",
       "\n",
       "   verdict  \n",
       "0        0  \n",
       "1        1  \n",
       "2        0  \n",
       "4        1  \n",
       "7        1  "
      ]
     },
     "execution_count": 26,
     "metadata": {},
     "output_type": "execute_result"
    }
   ],
   "source": [
    "data.head()"
   ]
  },
  {
   "cell_type": "code",
   "execution_count": null,
   "metadata": {},
   "outputs": [],
   "source": [
    "data.to_csv(\"aita_clean.csv\")"
   ]
  }
 ],
 "metadata": {
  "kernelspec": {
   "display_name": "Python 3",
   "language": "python",
   "name": "python3"
  },
  "language_info": {
   "codemirror_mode": {
    "name": "ipython",
    "version": 3
   },
   "file_extension": ".py",
   "mimetype": "text/x-python",
   "name": "python",
   "nbconvert_exporter": "python",
   "pygments_lexer": "ipython3",
   "version": "3.7.7"
  }
 },
 "nbformat": 4,
 "nbformat_minor": 4
}
